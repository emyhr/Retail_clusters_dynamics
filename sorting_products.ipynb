{
 "cells": [
  {
   "cell_type": "code",
   "execution_count": null,
   "metadata": {},
   "outputs": [],
   "source": [
    "import numpy as np\n",
    "import numpy.linalg as nl\n",
    "import pandas as pd\n",
    "import re\n",
    "import csv"
   ]
  },
  {
   "cell_type": "code",
   "execution_count": null,
   "metadata": {},
   "outputs": [],
   "source": [
    "# reading unique products\n",
    "unique = pd.read_csv('unique.csv', sep=';', encoding='cp1251')\n",
    "# dictionary = {product_id : product_name}\n",
    "uni_d = {index:title.rstrip() for index, title in zip(unique.get(unique.columns[0]), unique.get(unique.columns[1]))}"
   ]
  },
  {
   "cell_type": "code",
   "execution_count": null,
   "metadata": {},
   "outputs": [],
   "source": [
    "# sorting products via regex\n",
    "#list of anti-key words\n",
    "not_milk = [re.compile('%s' % k) for k in ('печенье','печ','шок','сос','колб','изделие','ватрушка','мыло','вино','чипсы',\n",
    "                                           'греч','батон','мюсли','тела','конф','кофе','ваф','запеканка','торт','орех','чай',\n",
    "                                           'пиро','пельм','блин','хлоп', 'корм','рулет','мор','дес','горо','перец','карамель',\n",
    "                                          'пюр','смесь', 'слойка', 'хлеб','наггет','блю','булоч','пицц','тартилья', 'спк',\n",
    "                                          'панини', 'фарш','котл','пончик','сухар','палочки','картофель')]\n",
    "#list of key words\n",
    "milk = [re.compile('%s' % i) for i in ('мол','твор','йог','молоко','молоч','кефир','ряжен','сметан','творо','сыр',\n",
    "                                       'биокеф','фругурт','BIO Max','сливк','слив','дом. в дер.','danone','активиа')]\n",
    "milk_id = []\n",
    "\n",
    "#writing into a csv-file rows detected to contain dairy products\n",
    "with open('milk.csv','w',newline='', encoding='cp1251') as csv_file:\n",
    "    csv_writer = csv.writer(csv_file, delimiter=';')\n",
    "    csv_writer.writerow(['код','наименование']) # writing code and product name\n",
    "    for num in uni_d:\n",
    "        s = uni_d[num]\n",
    "        l = s.lower()\n",
    "        if any(i.search(l) for i in milk) and all(i.search(l) is None for i in not_milk):  \n",
    "            print('%8d: %s' % (num,s))\n",
    "            csv_writer.writerow([num, uni_d[num]])\n",
    "            milk_id.append(num)"
   ]
  },
  {
   "cell_type": "code",
   "execution_count": null,
   "metadata": {},
   "outputs": [],
   "source": [
    "uni_milk = uni_d.copy()  # copying all of the products\n",
    "for i in milk_id:\n",
    "    uni_milk.pop(i)      # and removing milk products since we have already sorted them out"
   ]
  },
  {
   "cell_type": "code",
   "execution_count": null,
   "metadata": {},
   "outputs": [],
   "source": [
    "alco_id = []\n",
    "not_alco = [re.compile('%s'%i) for i in ('свинин','шампинь','шампунь')]\n",
    "alco = [re.compile('%s' % i) for i in ('водка', 'пив', 'вин', 'коньяк', 'виски','шамп','текила','сидр','ликер')]\n",
    "with open('alco.csv','w',newline='', encoding='cp1251') as csv_file:\n",
    "    csv_writer = csv.writer(csv_file, delimiter=';')\n",
    "    csv_writer.writerow(['код','наименование'])\n",
    "    for num in uni_milk:\n",
    "        s = uni_milk[num]\n",
    "        l = s.lower()\n",
    "        if any(i.search(l) for i in alco) and all(i.search(l) is None for i in not_alco):\n",
    "            print('%8d: %s' % (num,s))\n",
    "            csv_writer.writerow([num, uni_milk[num]])\n",
    "            alco_id.append(num)"
   ]
  },
  {
   "cell_type": "code",
   "execution_count": null,
   "metadata": {},
   "outputs": [],
   "source": [
    "uni_alco = uni_milk.copy()\n",
    "for i in alco_id:\n",
    "    uni_alco.pop(i)"
   ]
  },
  {
   "cell_type": "code",
   "execution_count": null,
   "metadata": {},
   "outputs": [],
   "source": [
    "bakery_id = []\n",
    "not_bakery = [re.compile('%s' % i) for i in ('шок','bounty','конф','барни','медв.бар','батончик')]\n",
    "bakery = [re.compile('%s' % i) for i in ('батон','хлеб','ватрушк','изделие','рулет','пирог','пирож','блин','запеканка','киш',\n",
    "                                        'панини','слойка','булоч','наггет','пицц','понч','кекс','тартилья','ватруш','плюшка',\n",
    "                                        'круассан','сдоба','лаваш','лечо','баранки','лепешки','тартал','багет')]\n",
    "with open('bakery.csv','w',newline='', encoding='cp1251') as csv_file:\n",
    "    csv_writer = csv.writer(csv_file, delimiter=';')\n",
    "    csv_writer.writerow(['код','наименование'])\n",
    "    for num in uni_alco:\n",
    "        s = uni_alco[num]\n",
    "        l = s.lower()\n",
    "        if any(i.search(l) for i in bakery) and all(i.search(l) is None for i in not_bakery):\n",
    "            print('%8d: %s' % (num,s))\n",
    "            csv_writer.writerow([num, uni_alco[num]])\n",
    "            bakery_id.append(num)"
   ]
  },
  {
   "cell_type": "code",
   "execution_count": null,
   "metadata": {},
   "outputs": [],
   "source": [
    "uni_bakery = uni_alco.copy()\n",
    "for i in bakery_id:\n",
    "    uni_bakery.pop(i)"
   ]
  },
  {
   "cell_type": "code",
   "execution_count": null,
   "metadata": {},
   "outputs": [],
   "source": [
    "snack_id = []\n",
    "not_snack = [re.compile('%s' % i) for i in ('мор','паста','шок','печень ')]\n",
    "snack = [re.compile('%s' % i) for i in ('печенье','пряники','чип','крекер','сушк','палочки','хрупки','козинак','snack',\n",
    "                                        'семечки','фисташки','семечки','попкорн','вафли','сухар','орех','печ','снек',\n",
    "                                       'арахис','соломка','снэк','халва','фри','финик','хруст','фундук')]\n",
    "with open('snack.csv','w',newline='', encoding='cp1251') as csv_file:\n",
    "    csv_writer = csv.writer(csv_file, delimiter=';')\n",
    "    csv_writer.writerow(['код','наименование'])\n",
    "    for num in uni_bakery:\n",
    "        s = uni_bakery[num]\n",
    "        l = s.lower()\n",
    "        if any(i.search(l) for i in snack) and all(i.search(l) is None for i in not_snack):\n",
    "            print('%8d: %s' % (num,s))\n",
    "            csv_writer.writerow([num, uni_bakery[num]])\n",
    "            snack_id.append(num)"
   ]
  },
  {
   "cell_type": "code",
   "execution_count": null,
   "metadata": {},
   "outputs": [],
   "source": [
    "uni_snack = uni_bakery.copy()\n",
    "for i in snack_id:\n",
    "    uni_snack.pop(i)"
   ]
  },
  {
   "cell_type": "code",
   "execution_count": null,
   "metadata": {},
   "outputs": [],
   "source": [
    "cigarettes_id = []\n",
    "not_cigarettes = [re.compile('%s' % i) for i in ('мор','паста','шок')]\n",
    "cigarettes = [re.compile('%s' % i) for i in ('сигареты','сиг')]\n",
    "with open('cigarettes.csv','w',newline='', encoding='cp1251') as csv_file:\n",
    "    csv_writer = csv.writer(csv_file, delimiter=';')\n",
    "    csv_writer.writerow(['код','наименование'])\n",
    "    for num in uni_snack:\n",
    "        s = uni_snack[num]\n",
    "        l = s.lower()\n",
    "        if any(i.search(l) for i in cigarettes) and all(i.search(l) is None for i in not_cigarettes):\n",
    "            print('%8d: %s' % (num,s))\n",
    "            csv_writer.writerow([num, uni_snack[num]])\n",
    "            cigarettes_id.append(num)"
   ]
  },
  {
   "cell_type": "code",
   "execution_count": null,
   "metadata": {},
   "outputs": [],
   "source": [
    "uni_cigarettes = uni_snack.copy()\n",
    "for i in cigarettes_id:\n",
    "    uni_cigarettes.pop(i)"
   ]
  },
  {
   "cell_type": "code",
   "execution_count": null,
   "metadata": {},
   "outputs": [],
   "source": [
    "beverage_id = []\n",
    "not_beverage = [re.compile('%s' % i) for i in ('морож','паста','шок')]\n",
    "beverage = [re.compile('%s' % i) for i in ('сок','вода','коктейль','лимонад','нап','чай','нектар','квас','нект','water','кофе',\n",
    "                                          'какао')]\n",
    "with open('beverage.csv','w',newline='', encoding='cp1251') as csv_file:\n",
    "    csv_writer = csv.writer(csv_file, delimiter=';')\n",
    "    csv_writer.writerow(['код','наименование'])\n",
    "    for num in uni_cigarettes:\n",
    "        s = uni_cigarettes[num]\n",
    "        l = s.lower()\n",
    "        if any(i.search(l) for i in beverage) and all(i.search(l) is None for i in not_beverage):\n",
    "            print('%8d: %s' % (num,s))\n",
    "            csv_writer.writerow([num, uni_cigarettes[num]])\n",
    "            beverage_id.append(num)"
   ]
  },
  {
   "cell_type": "code",
   "execution_count": null,
   "metadata": {},
   "outputs": [],
   "source": [
    "uni_beverage = uni_cigarettes.copy()\n",
    "for i in beverage_id:\n",
    "    uni_beverage.pop(i)"
   ]
  },
  {
   "cell_type": "code",
   "execution_count": null,
   "metadata": {},
   "outputs": [],
   "source": [
    "confectionery_id = []\n",
    "not_confectionery = [re.compile('%s' % i) for i in ()]\n",
    "confectionery = [re.compile('%s' % i) for i in ('торт','шок','десерт','батон','батончик', 'карамель', 'карам','конф','дес',\n",
    "                                               'мармел','биск','барни','медв.бар','киндер','пряник','леден','палоч.','зефир',\n",
    "                                               'желе')]\n",
    "with open('confectionery.csv','w',newline='', encoding='cp1251') as csv_file:\n",
    "    csv_writer = csv.writer(csv_file, delimiter=';')\n",
    "    csv_writer.writerow(['код','наименование'])\n",
    "    for num in uni_beverage:\n",
    "        s = uni_beverage[num]\n",
    "        l = s.lower()\n",
    "        if any(i.search(l) for i in confectionery) and all(i.search(l) is None for i in not_confectionery):\n",
    "            print('%8d: %s' % (num,s))\n",
    "            csv_writer.writerow([num, uni_beverage[num]])\n",
    "            confectionery_id.append(num)"
   ]
  },
  {
   "cell_type": "code",
   "execution_count": null,
   "metadata": {},
   "outputs": [],
   "source": [
    "uni_confectionery = uni_beverage.copy()\n",
    "for i in confectionery_id:\n",
    "    uni_confectionery.pop(i)"
   ]
  },
  {
   "cell_type": "code",
   "execution_count": null,
   "metadata": {},
   "outputs": [],
   "source": [
    "fruitveg_id = []\n",
    "not_fruitveg = [re.compile('%s' % i) for i in ('морож','паста','сок','биточки','нект','мармелад','картофель-фри','мыло','желе',\n",
    "                                              'пюре','лед','биотв','лепешк','печен','мюс','маж','журнал')]\n",
    "fruitveg = [re.compile('%s' % i) for i in ('яблок','груш','картофель','банан','помидор','огурцы','огурец','хурма','апельсин',\n",
    "                                           'свекл','томат','горох','горош','оливки','киви','авокадо','капуст','морковь',\n",
    "                                           'баклаж','персик','арбуз','петрушка','укроп','арбуз','абрикос','мандарин','лимон',\n",
    "                                           'гранат','грейпфрут','лук','овощ','чеснок','ананас','кабачки','базилик','слива',\n",
    "                                          'малина','дыня','изюм','редис','вишня')]\n",
    "with open('fruitveg.csv','w',newline='', encoding='cp1251') as csv_file:\n",
    "    csv_writer = csv.writer(csv_file, delimiter=';')\n",
    "    csv_writer.writerow(['код','наименование'])\n",
    "    for num in uni_confectionery:\n",
    "        s = uni_confectionery[num]\n",
    "        l = s.lower()\n",
    "        if any(i.search(l) for i in fruitveg) and all(i.search(l) is None for i in not_fruitveg):\n",
    "            print('%8d: %s' % (num,s))\n",
    "            csv_writer.writerow([num, uni_confectionery[num]])\n",
    "            fruitveg_id.append(num)"
   ]
  },
  {
   "cell_type": "code",
   "execution_count": null,
   "metadata": {},
   "outputs": [],
   "source": [
    "uni_fruitveg = uni_confectionery.copy()\n",
    "for i in fruitveg_id:\n",
    "    uni_fruitveg.pop(i)"
   ]
  },
  {
   "cell_type": "code",
   "execution_count": null,
   "metadata": {},
   "outputs": [],
   "source": [
    "kids_id = []\n",
    "not_kids = [re.compile('%s' % i) for i in ('салф','дош','мыло','шниц','азу','изд','крем','шам','heinz','лыжи','бумага',\n",
    "                                           'спагет','AQ','концентр','кондицион','моющ','з/п','з/щ','гель','hug','tide',\n",
    "                                           'пена','журнал')]\n",
    "kids = [re.compile('%s' % i) for i in ('агуша','фруто-няня','дет','тема','фр-няня',)]\n",
    "with open('kids.csv','w',newline='', encoding='cp1251') as csv_file:\n",
    "    csv_writer = csv.writer(csv_file, delimiter=';')\n",
    "    csv_writer.writerow(['код','наименование'])\n",
    "    for num in uni_fruitveg:\n",
    "        s = uni_fruitveg[num]\n",
    "        l = s.lower()\n",
    "        if any(i.search(l) for i in kids) and all(i.search(l) is None for i in not_kids):\n",
    "            print('%8d: %s' % (num,s))\n",
    "            csv_writer.writerow([num, uni_fruitveg[num]])\n",
    "            kids_id.append(num)"
   ]
  },
  {
   "cell_type": "code",
   "execution_count": null,
   "metadata": {},
   "outputs": [],
   "source": [
    "uni_kids = uni_fruitveg.copy()\n",
    "for i in kids_id:\n",
    "    uni_kids.pop(i)"
   ]
  },
  {
   "cell_type": "code",
   "execution_count": null,
   "metadata": {},
   "outputs": [],
   "source": [
    "meat_id = []\n",
    "not_meat = [re.compile('%s' % i) for i in ('колб','пельм','пюр','сельд','припр','салат','корм','сосис','сардельки',\n",
    "                                          'плов','шаурма','креветк','семг','голубцы','судак','лазанья','краб','горбуша',\n",
    "                                          'треск','камбала','солянка','сэндвич','суп','лапша','снек','китекат','котл',\n",
    "                                           'прип','перец','шашлык','скумбрия','форель','каш','кебаб','nestle','рыб','окун',\n",
    "                                           'бульон','шампиньон','гуляш','биточк','зраз','яйц','блюд','соус','запек',\n",
    "                                           'по-пекински','кукур','бутерброд','смесь')]\n",
    "meat = [re.compile('%s' % i) for i in ('мяс','кур','говяд','рулька','азу','свинин','буженин','филе','шейка','цыплёнок',\n",
    "                                       'крылышки','петел','грудин','ветч','индейк','окорок','окорочек','цыплята','бедро',)]\n",
    "with open('meat.csv', 'w',newline='', encoding='cp1251') as csv_file:\n",
    "    csv_writer = csv.writer(csv_file, delimiter=';')\n",
    "    csv_writer.writerow(['код','наименование'])\n",
    "    for num in uni_kids:\n",
    "        s = uni_kids[num]\n",
    "        l = s.lower()\n",
    "        if any(i.search(l) for i in meat) and all(i.search(l) is None for i in not_meat):\n",
    "            print('%8d: %s' % (num,s))\n",
    "            csv_writer.writerow([num, uni_kids[num]])\n",
    "            meat_id.append(num)"
   ]
  },
  {
   "cell_type": "code",
   "execution_count": null,
   "metadata": {},
   "outputs": [],
   "source": [
    "uni_meat = uni_kids.copy()\n",
    "for i in meat_id:\n",
    "    uni_meat.pop(i)"
   ]
  },
  {
   "cell_type": "code",
   "execution_count": null,
   "metadata": {},
   "outputs": [],
   "source": [
    "animals_id = []\n",
    "not_animals = [re.compile('%s' % i) for i in ('с солью','чипсы','лапша')]\n",
    "animals = [re.compile('%s' % i) for i in ('корм','kitekat','pedigree','собак','кошк','хомяк','котят','whiskas')]\n",
    "with open('animals.csv', 'w',newline='', encoding='cp1251') as csv_file:\n",
    "    csv_writer = csv.writer(csv_file, delimiter=';')\n",
    "    csv_writer.writerow(['код','наименование'])\n",
    "    for num in uni_meat:\n",
    "        s = uni_meat[num]\n",
    "        l = s.lower()\n",
    "        if any(i.search(l) for i in animals) and all(i.search(l) is None for i in not_animals):\n",
    "            print('%8d: %s' % (num,s))\n",
    "            csv_writer.writerow([num, uni_meat[num]])\n",
    "            animals_id.append(num)"
   ]
  },
  {
   "cell_type": "code",
   "execution_count": null,
   "metadata": {},
   "outputs": [],
   "source": [
    "uni_animals = uni_meat.copy()\n",
    "for i in animals_id:\n",
    "    uni_animals.pop(i)"
   ]
  },
  {
   "cell_type": "code",
   "execution_count": null,
   "metadata": {},
   "outputs": [],
   "source": [
    "chasauge_id = []\n",
    "not_chasauge = [re.compile('%s' % i) for i in ('чипс','сырок','ваф','сырник','блю','окор')]\n",
    "chasauge = [re.compile('%s' % i) for i in ('сыр','колб','сосис','сардельк')]\n",
    "with open('chasauge.csv', 'w',newline='', encoding='cp1251') as csv_file:\n",
    "    csv_writer = csv.writer(csv_file, delimiter=';')\n",
    "    csv_writer.writerow(['код','наименование'])\n",
    "    for num in uni_animals:\n",
    "        s = uni_animals[num]\n",
    "        l = s.lower()\n",
    "        if any(i.search(l) for i in chasauge) and all(i.search(l) is None for i in not_chasauge):\n",
    "            print('%8d: %s' % (num,s))\n",
    "            csv_writer.writerow([num, uni_animals[num]])\n",
    "            chasauge_id.append(num)"
   ]
  },
  {
   "cell_type": "code",
   "execution_count": null,
   "metadata": {},
   "outputs": [],
   "source": [
    "uni_chasauge = uni_animals.copy()\n",
    "for i in chasauge_id:\n",
    "    uni_chasauge.pop(i)"
   ]
  },
  {
   "cell_type": "code",
   "execution_count": null,
   "metadata": {},
   "outputs": [],
   "source": [
    "household_id = []\n",
    "not_household = [re.compile('%s' % i) for i in ()]\n",
    "household = [re.compile('%s' % i) for i in ('салф','бумаг','средств','моющ','тряп','domestos','fairy','губк',\n",
    "                                            'мыло','порош','кондиц')]\n",
    "with open('household.csv', 'w',newline='', encoding='cp1251') as csv_file:\n",
    "    csv_writer = csv.writer(csv_file, delimiter=';')\n",
    "    csv_writer.writerow(['код','наименование'])\n",
    "    for num in uni_chasauge:\n",
    "        s = uni_chasauge[num]\n",
    "        l = s.lower()\n",
    "        if any(i.search(l) for i in household) and all(i.search(l) is None for i in not_household):\n",
    "            print('%8d: %s' % (num,s))\n",
    "            csv_writer.writerow([num, uni_chasauge[num]])\n",
    "            household_id.append(num)"
   ]
  },
  {
   "cell_type": "code",
   "execution_count": null,
   "metadata": {},
   "outputs": [],
   "source": [
    "uni_household = uni_chasauge.copy()\n",
    "for i in household_id:\n",
    "    uni_household.pop(i)"
   ]
  },
  {
   "cell_type": "code",
   "execution_count": null,
   "metadata": {},
   "outputs": [],
   "source": [
    "condiments_id = []\n",
    "not_condiments = [re.compile('%s' % i) for i in ('лапша','картоф','арахис','фасоль','сельд','филе','семен','сел','пюре',\n",
    "                                                'лазан','макарон','пастила','бретцель','спагет','з/п','гречк')]\n",
    "condiments = [re.compile('%s' % i) for i in ('кетч','соль','припр','соус','добавк','паст','майон','сахар','сода','уксус',\n",
    "                                            'перец','горчиц','укс','Mag.','Maggi','бульон')]\n",
    "with open('condiments.csv', 'w',newline='', encoding='cp1251') as csv_file:\n",
    "    csv_writer = csv.writer(csv_file, delimiter=';')\n",
    "    csv_writer.writerow(['код','наименование'])\n",
    "    for num in uni_household:\n",
    "        s = uni_household[num]\n",
    "        l = s.lower()\n",
    "        if any(i.search(l) for i in condiments) and all(i.search(l) is None for i in not_condiments):\n",
    "            print('%8d: %s' % (num,s))\n",
    "            csv_writer.writerow([num, uni_household[num]])\n",
    "            condiments_id.append(num)"
   ]
  },
  {
   "cell_type": "code",
   "execution_count": null,
   "metadata": {},
   "outputs": [],
   "source": [
    "uni_condiments = uni_household.copy()\n",
    "for i in condiments_id:\n",
    "    uni_condiments.pop(i)"
   ]
  },
  {
   "cell_type": "code",
   "execution_count": null,
   "metadata": {},
   "outputs": [],
   "source": [
    "fish_id = []\n",
    "not_fish = [re.compile('%s' % i) for i in ('салат','бутербр','сельдер')]\n",
    "fish = [re.compile('%s' % i) for i in ('сельд','семг','судак','краб','горбуша','треск','тунец','вобла',\n",
    "                                       'камбала','скумбрия','форель','рыб','окун','шпрот','крев')]\n",
    "with open('fish.csv', 'w',newline='', encoding='cp1251') as csv_file:\n",
    "    csv_writer = csv.writer(csv_file, delimiter=';')\n",
    "    csv_writer.writerow(['код','наименование'])\n",
    "    for num in uni_condiments:\n",
    "        s = uni_condiments[num]\n",
    "        l = s.lower()\n",
    "        if any(i.search(l) for i in fish) and all(i.search(l) is None for i in not_fish):\n",
    "            print('%8d: %s' % (num,s))\n",
    "            csv_writer.writerow([num, uni_condiments[num]])\n",
    "            fish_id.append(num)"
   ]
  },
  {
   "cell_type": "code",
   "execution_count": null,
   "metadata": {},
   "outputs": [],
   "source": [
    "uni_fish = uni_condiments.copy()\n",
    "for i in fish_id:\n",
    "    uni_fish.pop(i)"
   ]
  },
  {
   "cell_type": "code",
   "execution_count": null,
   "metadata": {},
   "outputs": [],
   "source": [
    "grocery_id = []\n",
    "not_grocery = [re.compile('%s' % i) for i in ('салат',)]\n",
    "grocery = [re.compile('%s' % i) for i in ('лапш','макар','тесто','лапша','крупа','рис','греч','масло','мука','спагет',\n",
    "                                               'рожки','фасоль','вермишель','бакалея','хлопья','геркулес','икра кабачк')]\n",
    "with open('grocery.csv', 'w',newline='', encoding='cp1251') as csv_file:\n",
    "    csv_writer = csv.writer(csv_file, delimiter=';')\n",
    "    csv_writer.writerow(['код','наименование'])\n",
    "    for num in uni_fish:\n",
    "        s = uni_fish[num]\n",
    "        l = s.lower()\n",
    "        if any(i.search(l) for i in grocery) and all(i.search(l) is None for i in not_grocery):\n",
    "            print('%8d: %s' % (num,s))\n",
    "            csv_writer.writerow([num, uni_fish[num]])\n",
    "            grocery_id.append(num)"
   ]
  },
  {
   "cell_type": "code",
   "execution_count": null,
   "metadata": {},
   "outputs": [],
   "source": [
    "uni_grocery = uni_fish.copy()\n",
    "for i in grocery_id:\n",
    "    uni_grocery.pop(i)"
   ]
  },
  {
   "cell_type": "code",
   "execution_count": null,
   "metadata": {},
   "outputs": [],
   "source": [
    "salads_id = []\n",
    "not_salads = [re.compile('%s' % i) for i in ('')]\n",
    "salads = [re.compile('\\\\b%s\\\\b' % i) for i in ('салат',)]\n",
    "with open('salads.csv', 'w',newline='', encoding='cp1251') as csv_file:\n",
    "    csv_writer = csv.writer(csv_file, delimiter=';')\n",
    "    csv_writer.writerow(['код','наименование'])\n",
    "    for num in uni_grocery:\n",
    "        s = uni_grocery[num]\n",
    "        l = s.lower()\n",
    "        if any(i.search(l) for i in salads) and all(i.search(l) is None for i in not_salads):\n",
    "            print('%8d: %s' % (num,s))\n",
    "            csv_writer.writerow([num, uni_grocery[num]])\n",
    "            salads_id.append(num)"
   ]
  },
  {
   "cell_type": "code",
   "execution_count": null,
   "metadata": {},
   "outputs": [],
   "source": [
    "uni_salads = uni_grocery.copy()\n",
    "for i in salads_id:\n",
    "    uni_salads.pop(i)"
   ]
  },
  {
   "cell_type": "code",
   "execution_count": null,
   "metadata": {},
   "outputs": [],
   "source": [
    "frozen_id = []\n",
    "not_frozen = [re.compile('%s' % i) for i in ('ветчина','морковь','печень','кружка')]\n",
    "frozen = [re.compile('%s' % i) for i in ('морож','мор')]\n",
    "with open('frozen.csv', 'w',newline='', encoding='cp1251') as csv_file:\n",
    "    csv_writer = csv.writer(csv_file, delimiter=';')\n",
    "    csv_writer.writerow(['код','наименование'])\n",
    "    for num in uni_salads:\n",
    "        s = uni_salads[num]\n",
    "        l = s.lower()\n",
    "        if any(i.search(l) for i in frozen) and all(i.search(l) is None for i in not_frozen):\n",
    "            print('%8d: %s' % (num,s))\n",
    "            csv_writer.writerow([num, uni_salads[num]])\n",
    "            frozen_id.append(num)"
   ]
  },
  {
   "cell_type": "code",
   "execution_count": null,
   "metadata": {},
   "outputs": [],
   "source": [
    "uni_frozen = uni_salads.copy()\n",
    "for i in frozen_id:\n",
    "    uni_frozen.pop(i)"
   ]
  },
  {
   "cell_type": "code",
   "execution_count": null,
   "metadata": {},
   "outputs": [],
   "source": [
    "cooked_id = []\n",
    "not_cooked = [re.compile('%s' % i) for i in ('хлеб',)]\n",
    "cooked = [re.compile('%s' % i) for i in ('блюдо','блю','паштет','консерв','пельм','яйц','котл','бифштекс','биточк','плов',\n",
    "                                         'рофштекс','шашлык','бекон','лазанья','шницель','ромштекс','бутерброд','оладьи')]\n",
    "with open('cooked.csv', 'w',newline='', encoding='cp1251') as csv_file:\n",
    "    csv_writer = csv.writer(csv_file, delimiter=';')\n",
    "    csv_writer.writerow(['код','наименование'])\n",
    "    for num in uni_frozen:\n",
    "        s = uni_frozen[num]\n",
    "        l = s.lower()\n",
    "        if any(i.search(l) for i in cooked) and all(i.search(l) is None for i in not_cooked):\n",
    "            print('%8d: %s' % (num,s))\n",
    "            csv_writer.writerow([num, uni_frozen[num]])\n",
    "            cooked_id.append(num)"
   ]
  },
  {
   "cell_type": "code",
   "execution_count": null,
   "metadata": {},
   "outputs": [],
   "source": [
    "uni_cooked = uni_frozen.copy()\n",
    "for i in cooked_id:\n",
    "    uni_cooked.pop(i)"
   ]
  },
  {
   "cell_type": "code",
   "execution_count": null,
   "metadata": {},
   "outputs": [],
   "source": [
    "wash_id = []\n",
    "not_wash = [re.compile('%s' % i) for i in ('грибы','шампиньон','бульбаш','пюре','зубочистки')]\n",
    "wash = [re.compile('%s' % i) for i in ('зуб','з/п','з/щ','гель','шамп','мыл','крем','pantene')]\n",
    "with open('wash.csv', 'w',newline='', encoding='cp1251') as csv_file:\n",
    "    csv_writer = csv.writer(csv_file, delimiter=';')\n",
    "    csv_writer.writerow(['код','наименование'])\n",
    "    for num in uni_cooked:\n",
    "        s = uni_cooked[num]\n",
    "        l = s.lower()\n",
    "        if any(i.search(l) for i in wash) and all(i.search(l) is None for i in not_wash):\n",
    "            print('%8d: %s' % (num,s))\n",
    "            csv_writer.writerow([num, uni_cooked[num]])\n",
    "            wash_id.append(num)"
   ]
  },
  {
   "cell_type": "code",
   "execution_count": null,
   "metadata": {},
   "outputs": [],
   "source": [
    "others = []\n",
    "uni_wash = uni_cooked.copy()\n",
    "for i in wash_id:\n",
    "    uni_wash.pop(i)\n",
    "for k in uni_wash:\n",
    "    others.append(k)\n",
    "with open('others.csv', 'w',newline='', encoding='cp1251') as csv_file:\n",
    "    csv_writer = csv.writer(csv_file, delimiter=';')\n",
    "    csv_writer.writerow(['код','наименование'])\n",
    "    for num in uni_wash:\n",
    "        csv_writer.writerow([num, uni_wash[num]])\n",
    "        others.append(num)"
   ]
  }
 ],
 "metadata": {
  "kernelspec": {
   "display_name": "Python 3",
   "language": "python",
   "name": "python3"
  },
  "language_info": {
   "codemirror_mode": {
    "name": "ipython",
    "version": 3
   },
   "file_extension": ".py",
   "mimetype": "text/x-python",
   "name": "python",
   "nbconvert_exporter": "python",
   "pygments_lexer": "ipython3",
   "version": "3.7.1"
  },
  "latex_envs": {
   "LaTeX_envs_menu_present": true,
   "autocomplete": true,
   "bibliofile": "biblio.bib",
   "cite_by": "apalike",
   "current_citInitial": 1,
   "eqLabelWithNumbers": true,
   "eqNumInitial": 1,
   "hotkeys": {
    "equation": "Ctrl-E",
    "itemize": "Ctrl-I"
   },
   "labels_anchors": false,
   "latex_user_defs": false,
   "report_style_numbering": false,
   "user_envs_cfg": false
  }
 },
 "nbformat": 4,
 "nbformat_minor": 2
}
