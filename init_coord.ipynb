{
 "cells": [
  {
   "cell_type": "code",
   "execution_count": 1,
   "metadata": {
    "colab": {},
    "colab_type": "code",
    "id": "g1GU37XeeiIP"
   },
   "outputs": [],
   "source": [
    "import pandas as pd\n",
    "import numpy as np\n",
    "import json\n",
    "import datetime"
   ]
  },
  {
   "cell_type": "code",
   "execution_count": 2,
   "metadata": {
    "colab": {},
    "colab_type": "code",
    "id": "DVLTdECeeiIb"
   },
   "outputs": [],
   "source": [
    "# returns the IDs of the products in each category\n",
    "def categories(filename):\n",
    "    return pd.read_csv(f'categories/{filename}', encoding='cp1251', sep=';', usecols=['код'], dtype={'код': int})['код']\n",
    "\n",
    "# list of all the categories.csv\n",
    "cat_list = ['alco.csv', 'animals.csv', 'bakery.csv', 'beverage.csv', 'chasauge.csv', 'cigarettes.csv', 'condiments.csv', \n",
    "            'confectionery.csv', 'cooked.csv', 'fish.csv', 'frozen.csv', 'fruitveg.csv', 'grocery.csv', 'household.csv',\n",
    "            'kids.csv', 'meat.csv', 'milk.csv', 'others.csv','salads.csv', 'snack.csv', 'wash.csv']"
   ]
  },
  {
   "cell_type": "code",
   "execution_count": 3,
   "metadata": {},
   "outputs": [],
   "source": [
    "# generator for looping through time periods\n",
    "def daterange(start_date, end_date):\n",
    "    if start_date < end_date:\n",
    "        for day in range((end_date - start_date).days):\n",
    "            yield start_date + datetime.timedelta(day)\n",
    "    else:\n",
    "        print('start_date exceeds end_date')"
   ]
  },
  {
   "cell_type": "code",
   "execution_count": 4,
   "metadata": {
    "colab": {},
    "colab_type": "code",
    "id": "CDihN6dYeiIh",
    "scrolled": true
   },
   "outputs": [],
   "source": [
    "# generates coordinates of each check in the specified period\n",
    "def gen_coord(start_date, end_date):\n",
    "    \n",
    "    for date in daterange(start_date, end_date):\n",
    "        \n",
    "        start = datetime.datetime.now()\n",
    "        data = pd.read_csv(f'dates/{date}.csv')\n",
    "        check_dic = {} # check_id : coordinates\n",
    "        coordinates = [] # coordinates of a check\n",
    "        check_list = data.Check.unique()\n",
    "        product_total = 0\n",
    "        \n",
    "        for num, check in enumerate(check_list):\n",
    "            \n",
    "            prod_list = list(data[data.Check == check].Product_id)\n",
    "            for category in cat_list:\n",
    "                code_list = categories(category)\n",
    "                \n",
    "                for el in code_list:\n",
    "                    product_total += prod_list.count(el)\n",
    "                coordinates.append(product_total)\n",
    "                product_total = 0\n",
    "                \n",
    "            check_dic[str(check)] = coordinates\n",
    "            coordinates = []\n",
    "            \n",
    "        with open(f'coordinates/{date}', 'w') as file:\n",
    "            json.dump(check_dic, file)\n",
    "            \n",
    "        end = datetime.datetime.now()\n",
    "        \n",
    "        print(f'{date} is finished in {end-start}')"
   ]
  },
  {
   "cell_type": "code",
   "execution_count": 6,
   "metadata": {},
   "outputs": [
    {
     "name": "stdout",
     "output_type": "stream",
     "text": [
      "2012-06-25 is finished in 0:07:10.688237\n"
     ]
    }
   ],
   "source": [
    "start_date = datetime.date(year=2012, month=6, day=25)\n",
    "end_date = datetime.date(year=2012, month=6, day=26)\n",
    "gen_coord(start_date, end_date)"
   ]
  }
 ],
 "metadata": {
  "colab": {
   "name": "main.ipynb",
   "provenance": [],
   "version": "0.3.2"
  },
  "kernelspec": {
   "display_name": "Python 3",
   "language": "python",
   "name": "python3"
  },
  "language_info": {
   "codemirror_mode": {
    "name": "ipython",
    "version": 3
   },
   "file_extension": ".py",
   "mimetype": "text/x-python",
   "name": "python",
   "nbconvert_exporter": "python",
   "pygments_lexer": "ipython3",
   "version": "3.7.1"
  }
 },
 "nbformat": 4,
 "nbformat_minor": 1
}
