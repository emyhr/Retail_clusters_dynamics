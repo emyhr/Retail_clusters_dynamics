{
 "cells": [
  {
   "cell_type": "code",
   "execution_count": 1,
   "metadata": {},
   "outputs": [],
   "source": [
    "import pandas as pd\n",
    "from datetime import datetime\n",
    "import numpy as np\n",
    "import os"
   ]
  },
  {
   "cell_type": "code",
   "execution_count": 2,
   "metadata": {},
   "outputs": [],
   "source": [
    "def filename(index):\n",
    "    return f'export_file_{index}.csv'\n",
    "\n",
    "_dtypes={0: np.int32,\n",
    "         2: np.int32,\n",
    "         3: np.int32,\n",
    "         4: str,\n",
    "         5: np.float64,\n",
    "         6: np.float64}\n",
    "\n",
    "def get_chunks(filename, encoding='utf-8', decimal=b'.', sep=','):\n",
    "    return pd.read_csv(filename,\n",
    "                         sep=sep,\n",
    "                         encoding=encoding,\n",
    "                         chunksize=20000,\n",
    "                         skiprows=[2],\n",
    "                         header=0,\n",
    "                         dtype=_dtypes,\n",
    "                         infer_datetime_format=True,\n",
    "                         parse_dates=[1],\n",
    "                         decimal=decimal,\n",
    "                         names=['Shop_id',\n",
    "                                'Date',\n",
    "                                'Check',\n",
    "                                'Product_id',\n",
    "                                'Product_name',\n",
    "                                'Quantity',\n",
    "                                'Price'])\n",
    "    "
   ]
  },
  {
   "cell_type": "code",
   "execution_count": 6,
   "metadata": {},
   "outputs": [
    {
     "name": "stdout",
     "output_type": "stream",
     "text": [
      "15 out of 15"
     ]
    }
   ],
   "source": [
    "# refines all of the files by removing the old ones and creating clean copies\n",
    "for i in range(1,16):\n",
    "    for chunk in get_chunks(filename(i), encoding='cp1251', decimal=b',', sep=';'):\n",
    "        chunk.update({'Product_name': [x.strip() for x in chunk['Product_name']]})\n",
    "        chunk.to_csv(f'{i}.csv',\n",
    "                     mode='a', \n",
    "                     columns=['Shop_id',\n",
    "                              'Date',\n",
    "                              'Check',\n",
    "                              'Product_id',\n",
    "                              'Product_name',\n",
    "                              'Quantity',\n",
    "                              'Price'],\n",
    "                     float_format = '%.3f',\n",
    "                     index=False,\n",
    "                     header = not os.path.isfile(f'{i}.csv'))\n",
    "    os.remove(filename(i))\n",
    "    print('\\r{} out of 15'.format(i), end='')"
   ]
  },
  {
   "cell_type": "code",
   "execution_count": 4,
   "metadata": {},
   "outputs": [],
   "source": [
    "# creates a file of product name and product code correspondence\n",
    "_dtypes={0: np.int32,\n",
    "         2: np.int32,\n",
    "         3: np.int32,\n",
    "         4: str,\n",
    "         5: np.float64,\n",
    "         6: np.float64}\n",
    "\n",
    "for i in range(1, 16):\n",
    "    for chunk in get_chunks(f'source/{i}.csv'):\n",
    "        chunk[['Product_id','Product_name']].drop_duplicates(subset='Product_id').set_index('Product_id').to_csv(\n",
    "            'pr_id_name.csv',\n",
    "            mode='a',\n",
    "            columns=['Product_name'],\n",
    "            header=not os.path.isfile('pr_id_name.csv'))\n",
    "    print('\\r{} out of 15'.format(i), end='')\n",
    "    \n",
    "name_id = pd.read_csv('pr_id_name.csv')\n",
    "name_id.drop_duplicates(subset='Product_id').to_csv('pr_id_name.csv')"
   ]
  },
  {
   "cell_type": "code",
   "execution_count": 3,
   "metadata": {},
   "outputs": [
    {
     "name": "stdout",
     "output_type": "stream",
     "text": [
      "\r",
      "15 out of 15"
     ]
    }
   ],
   "source": [
    "# creates a file for each date located in /dates\n",
    "for i in range(15, 16):\n",
    "    for chunk in get_chunks(f'{i}.csv'):\n",
    "        for date_ in chunk.Date.drop_duplicates():\n",
    "            out = f'dates/{date_:%Y-%m-%d}.csv'\n",
    "            chunk[chunk.Date == date_][['Check', 'Product_id']].to_csv(out,\n",
    "                                                                   index=False,\n",
    "                                                                   mode='a',\n",
    "                                                                   header=not os.path.isfile(out),\n",
    "                                                                   columns=['Check','Product_id'])\n",
    "    print('\\r{} out of 15'.format(i), end='')"
   ]
  },
  {
   "cell_type": "code",
   "execution_count": null,
   "metadata": {},
   "outputs": [],
   "source": []
  }
 ],
 "metadata": {
  "celltoolbar": "Raw Cell Format",
  "kernelspec": {
   "display_name": "Python 3",
   "language": "python",
   "name": "python3"
  },
  "language_info": {
   "codemirror_mode": {
    "name": "ipython",
    "version": 3
   },
   "file_extension": ".py",
   "mimetype": "text/x-python",
   "name": "python",
   "nbconvert_exporter": "python",
   "pygments_lexer": "ipython3",
   "version": "3.7.1"
  }
 },
 "nbformat": 4,
 "nbformat_minor": 2
}
