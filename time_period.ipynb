{
 "cells": [
  {
   "cell_type": "code",
   "execution_count": 23,
   "metadata": {},
   "outputs": [],
   "source": [
    "import datetime\n",
    "from coursework import daterange\n",
    "import json"
   ]
  },
  {
   "cell_type": "code",
   "execution_count": 33,
   "metadata": {},
   "outputs": [],
   "source": [
    "# every three days are considered as a single time point\n",
    "\n",
    "start_ = datetime.date(year=2012, month=1, day=1)\n",
    "end_ = datetime.date(year=2012, month=12, day=31)\n",
    "\n",
    "total = []\n",
    "time_points = []\n",
    "\n",
    "delta = datetime.timedelta(3)\n",
    "start = start_\n",
    "end = start + delta\n",
    "\n",
    "while end < end_:\n",
    "    \n",
    "    for day in daterange(start, end):\n",
    "        \n",
    "        with open(f'coordinates/{day}', 'r') as file:\n",
    "            temp = json.load(file)\n",
    "        temp = list(temp.values())\n",
    "            \n",
    "        total += temp\n",
    "        \n",
    "    start = end\n",
    "    end = start + delta\n",
    "    time_points.append(total.copy())\n",
    "    total.clear()"
   ]
  },
  {
   "cell_type": "code",
   "execution_count": 34,
   "metadata": {},
   "outputs": [],
   "source": [
    "with open('time_points', 'w') as file:\n",
    "    json.dump(time_points, file)"
   ]
  },
  {
   "cell_type": "code",
   "execution_count": null,
   "metadata": {},
   "outputs": [],
   "source": []
  }
 ],
 "metadata": {
  "kernelspec": {
   "display_name": "Python 3",
   "language": "python",
   "name": "python3"
  },
  "language_info": {
   "codemirror_mode": {
    "name": "ipython",
    "version": 3
   },
   "file_extension": ".py",
   "mimetype": "text/x-python",
   "name": "python",
   "nbconvert_exporter": "python",
   "pygments_lexer": "ipython3",
   "version": "3.7.1"
  }
 },
 "nbformat": 4,
 "nbformat_minor": 2
}
